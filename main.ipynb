{
  "cells": [
    {
      "cell_type": "markdown",
      "metadata": {},
      "source": [
        "# Databricks Cross-Repository Import Demo\n",
        "\n",
        "This notebook demonstrates how to import and use functions from another Git repository in Databricks workflows.\n",
        "\n",
        "## Setup Instructions\n",
        "\n",
        "1. Add both `utils-repo` and `main-project-repo` as Git folders in your Databricks workspace under `/Workspace/Users/avdhesh.sachdeva@databricks.com/`\n",
        "2. The notebook paths are hardcoded for this specific workspace setup\n",
        "3. Run this notebook to see cross-repository imports in action\n",
        "\n",
        "## Repository Structure\n",
        "```\n",
        "/Workspace/Users/avdhesh.sachdeva@databricks.com/\n",
        "├── utils-repo/\n",
        "│   └── message_utils        (contains reusable functions)\n",
        "└── main-project-repo/\n",
        "    └── main                 (this notebook)\n",
        "```\n",
        "\n",
        "## Hardcoded Paths\n",
        "- **Main notebook:** `/Workspace/Users/avdhesh.sachdeva@databricks.com/main-project-repo/main`\n",
        "- **Utils notebook:** `/Workspace/Users/avdhesh.sachdeva@databricks.com/utils-repo/message_utils`\n"
      ]
    },
    {
      "cell_type": "code",
      "execution_count": null,
      "metadata": {},
      "outputs": [],
      "source": [
        "# Setup: Define notebook paths for Databricks workspace\n",
        "print(\"=== Databricks Notebook Paths ===\")\n",
        "\n",
        "# Hardcoded paths for this specific Databricks workspace setup\n",
        "main_notebook_path = \"/Workspace/Users/avdhesh.sachdeva@databricks.com/main-project-repo/main\"\n",
        "utils_notebook_path = \"/Workspace/Users/avdhesh.sachdeva@databricks.com/utils-repo/message_utils\"\n",
        "\n",
        "print(f\"📋 Main notebook: {main_notebook_path}\")\n",
        "print(f\"📋 Utils notebook: {utils_notebook_path}\")\n",
        "print(f\"✅ Paths configured for cross-repository import\")\n"
      ]
    },
    {
      "cell_type": "code",
      "execution_count": null,
      "metadata": {},
      "outputs": [],
      "source": [
        "# Import functions from utils-repo notebook\n",
        "# In Databricks, we use dbutils.notebook.run() to execute another notebook and import its functions\n",
        "try:\n",
        "    print(f\"🔄 Running utils notebook: {utils_notebook_path}\")\n",
        "    \n",
        "    # Execute the utils notebook to make its functions available\n",
        "    # Timeout set to 60 seconds\n",
        "    dbutils.notebook.run(utils_notebook_path, 60)\n",
        "    \n",
        "    print(\"✅ Successfully loaded functions from utils-repo!\")\n",
        "    \n",
        "except Exception as e:\n",
        "    print(f\"❌ Error loading utils notebook: {e}\")\n",
        "    print(\"\\nAlternative approach - define functions locally for testing:\")\n",
        "    \n",
        "    # Fallback: define functions locally if import fails\n",
        "    def get_greeting_message(name=\"World\"):\n",
        "        return f\"Hello, {name}! This message comes from the utils-repo in Databricks.\"\n",
        "\n",
        "    def say_goodbye(name=\"Friend\"):\n",
        "        return f\"Goodbye, {name}! Databricks workflow completed successfully.\"\n",
        "    \n",
        "    print(\"✅ Using fallback local functions\")\n"
      ]
    },
    {
      "cell_type": "code",
      "execution_count": null,
      "metadata": {},
      "outputs": [],
      "source": [
        "# Demonstrate using functions from utils-repo\n",
        "print(\"=== Databricks Modular Project Demo ===\\n\")\n",
        "\n",
        "# Using the imported function from utils-repo\n",
        "message1 = get_greeting_message()\n",
        "print(message1)\n",
        "\n",
        "# Using the imported function with a custom name\n",
        "message2 = get_greeting_message(\"Data Engineer\")\n",
        "print(message2)\n",
        "\n",
        "# Using the second imported function\n",
        "goodbye_message = say_goodbye(\"Databricks User\")\n",
        "print(goodbye_message)\n",
        "\n",
        "print(f\"\\n✅ Successfully demonstrated cross-repository imports!\")\n",
        "print(f\"📁 Utils notebook: {utils_notebook_path}\")\n",
        "print(f\"📁 Main notebook: {main_notebook_path}\")\n",
        "\n",
        "# Display success metrics for workflow tracking\n",
        "print(f\"\\n📊 Demo Results:\")\n",
        "print(f\"   - Functions imported: ✅\")\n",
        "print(f\"   - Cross-repo access: ✅\") \n",
        "print(f\"   - Workflow completed: ✅\")\n"
      ]
    }
  ],
  "metadata": {
    "language_info": {
      "name": "python"
    }
  },
  "nbformat": 4,
  "nbformat_minor": 2
}
