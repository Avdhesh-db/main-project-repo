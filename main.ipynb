{
  "cells": [
    {
      "cell_type": "markdown",
      "metadata": {},
      "source": [
        "# Databricks Cross-Repository Import Demo\n",
        "\n",
        "This notebook demonstrates how to import and use functions from another Git repository in Databricks workflows.\n",
        "\n",
        "## Setup Instructions\n",
        "\n",
        "1. Add both `utils-repo` and `main-project-repo` as Git folders in your Databricks workspace\n",
        "2. Ensure both repositories are in the same parent directory\n",
        "3. Run this notebook to see cross-repository imports in action\n",
        "\n",
        "## Repository Structure\n",
        "```\n",
        "/Workspace/Repos/your_username/\n",
        "├── utils-repo/\n",
        "│   └── message_utils.ipynb  (contains reusable functions)\n",
        "└── main-project-repo/\n",
        "    └── main.ipynb           (this notebook)\n",
        "```\n"
      ]
    },
    {
      "cell_type": "code",
      "execution_count": null,
      "metadata": {},
      "outputs": [],
      "source": [
        "# Setup: Add utils-repo to Python path for importing\n",
        "import sys\n",
        "import os\n",
        "\n",
        "# Get the parent directory of the current notebook's repository\n",
        "current_dir = os.path.dirname(dbutils.notebook.entry_point.getDbutils().notebook().getContext().notebookPath().get())\n",
        "parent_dir = os.path.dirname(current_dir)\n",
        "\n",
        "# Path to the utils-repo (adjust if needed based on your structure)\n",
        "utils_repo_path = os.path.join(parent_dir, 'utils-repo')\n",
        "\n",
        "print(f\"Current notebook path: {current_dir}\")\n",
        "print(f\"Parent directory: {parent_dir}\")\n",
        "print(f\"Utils repo path: {utils_repo_path}\")\n",
        "\n",
        "# Add utils-repo to Python path\n",
        "if utils_repo_path not in sys.path:\n",
        "    sys.path.append(utils_repo_path)\n",
        "    print(f\"✅ Added utils-repo to Python path\")\n",
        "else:\n",
        "    print(f\"✅ Utils-repo already in Python path\")\n"
      ]
    },
    {
      "cell_type": "code",
      "execution_count": null,
      "metadata": {},
      "outputs": [],
      "source": [
        "# Import functions from utils-repo notebook\n",
        "# In Databricks, we use %run to execute another notebook and import its functions\n",
        "try:\n",
        "    # Execute the utils notebook to make its functions available\n",
        "    utils_notebook_path = f\"{parent_dir}/utils-repo/message_utils\"\n",
        "    print(f\"Running utils notebook: {utils_notebook_path}\")\n",
        "    \n",
        "    # Use Databricks %run magic command\n",
        "    dbutils.notebook.run(utils_notebook_path, 60)\n",
        "    \n",
        "    print(\"✅ Successfully loaded functions from utils-repo!\")\n",
        "    \n",
        "except Exception as e:\n",
        "    print(f\"❌ Error loading utils notebook: {e}\")\n",
        "    print(\"\\nAlternative approach - define functions locally for testing:\")\n",
        "    \n",
        "    # Fallback: define functions locally if import fails\n",
        "    def get_greeting_message(name=\"World\"):\n",
        "        return f\"Hello, {name}! This message comes from the utils-repo in Databricks.\"\n",
        "\n",
        "    def say_goodbye(name=\"Friend\"):\n",
        "        return f\"Goodbye, {name}! Databricks workflow completed successfully.\"\n",
        "    \n",
        "    print(\"✅ Using fallback local functions\")\n"
      ]
    },
    {
      "cell_type": "code",
      "execution_count": null,
      "metadata": {},
      "outputs": [],
      "source": [
        "# Demonstrate using functions from utils-repo\n",
        "print(\"=== Databricks Modular Project Demo ===\\n\")\n",
        "\n",
        "# Using the imported function from utils-repo\n",
        "message1 = get_greeting_message()\n",
        "print(message1)\n",
        "\n",
        "# Using the imported function with a custom name\n",
        "message2 = get_greeting_message(\"Data Engineer\")\n",
        "print(message2)\n",
        "\n",
        "# Using the second imported function\n",
        "goodbye_message = say_goodbye(\"Databricks User\")\n",
        "print(goodbye_message)\n",
        "\n",
        "print(f\"\\n✅ Successfully demonstrated cross-repository imports!\")\n",
        "print(f\"📁 Utils repo: {parent_dir}/utils-repo\")\n",
        "print(f\"📁 Main repo: {parent_dir}/main-project-repo\")\n",
        "\n",
        "# Display success metrics for workflow tracking\n",
        "print(f\"\\n📊 Demo Results:\")\n",
        "print(f\"   - Functions imported: ✅\")\n",
        "print(f\"   - Cross-repo access: ✅\") \n",
        "print(f\"   - Workflow completed: ✅\")\n"
      ]
    }
  ],
  "metadata": {
    "language_info": {
      "name": "python"
    }
  },
  "nbformat": 4,
  "nbformat_minor": 2
}
